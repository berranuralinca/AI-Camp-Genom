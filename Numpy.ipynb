{
 "cells": [
  {
   "cell_type": "markdown",
   "id": "b83251a7-b609-48d8-8460-a5f58c4947a7",
   "metadata": {},
   "source": [
    "<h1><strong>NumPY</strong></h1>"
   ]
  },
  {
   "cell_type": "markdown",
   "id": "535f1503-8407-4759-bebe-e26491ef6246",
   "metadata": {},
   "source": [
    "***\n",
    "**NumPy Nedir ?**\n",
    "- Numerical Python\n",
    "- Bilimsel Hesaplamalar icin kullanilir.\n",
    "- Listelere numpy arrayleri benzer fakat sabit veri tipi vardır ve butun listeyi tutmaya gerek duymaz.\n",
    "- Vektorel operasyonlardır."
   ]
  },
  {
   "cell_type": "markdown",
   "id": "6f477796-baf0-4ea5-a304-7dc8e78afe1f",
   "metadata": {},
   "source": [
    "**Neden Numpy**"
   ]
  },
  {
   "cell_type": "code",
   "execution_count": 41,
   "id": "1c55515e-5478-4b1f-a6eb-a3455d4679e3",
   "metadata": {},
   "outputs": [
    {
     "data": {
      "text/plain": [
       "[5, 12, 21, 32]"
      ]
     },
     "execution_count": 41,
     "metadata": {},
     "output_type": "execute_result"
    }
   ],
   "source": [
    "#Liste kullanilarak\n",
    "\n",
    "List1 = [1,2,3,4]\n",
    "List2 = [5,6,7,8]\n",
    "List3 = [ ]         #List3 = List1 * List2\n",
    "for i in range(0,len(List1)):\n",
    "    List3.append(List1[i]*List2[i])\n",
    "\n",
    "List3"
   ]
  },
  {
   "cell_type": "code",
   "execution_count": 47,
   "id": "3e9e3b15-c11a-4f2e-b772-97ad6db7e8d5",
   "metadata": {},
   "outputs": [
    {
     "data": {
      "text/plain": [
       "array([ 5, 12, 21, 32])"
      ]
     },
     "execution_count": 47,
     "metadata": {},
     "output_type": "execute_result"
    }
   ],
   "source": [
    "import numpy as np      # Numpy import edildi.\n",
    "List1 = np.array([1,2,3,4])      # Numpy array'i tanimlandi.\n",
    "List2 = np.array([5,6,7,8])      # Numpy array'i tanimlandi.\n",
    "List3 = List1 * List2         # Vektorel olarak carpildi.\n",
    "List3"
   ]
  },
  {
   "cell_type": "markdown",
   "id": "e152b47b-8a42-49be-a51b-0a193e87f94d",
   "metadata": {},
   "source": [
    "**Numpy Array'i Olusturmak**"
   ]
  },
  {
   "cell_type": "code",
   "execution_count": 100,
   "id": "1e6ebdd5-5ba4-401d-84ed-b641a0723ab3",
   "metadata": {},
   "outputs": [
    {
     "name": "stdout",
     "output_type": "stream",
     "text": [
      "[1 2 3 4]\n",
      "[[1 2 3 4]\n",
      " [5 6 7 8]]\n"
     ]
    }
   ],
   "source": [
    "import numpy as np\n",
    "\n",
    "Arr1D = np.array([1,2,3,4])     # 1 boyutlu\n",
    "print(Arr1D)\n",
    "\n",
    "Arr2D = np.array([[1,2,3,4],[5,6,7,8]])    # 2 boyutlu\n",
    "print(Arr2D)"
   ]
  },
  {
   "cell_type": "markdown",
   "id": "5d07c09d-0cc3-4113-b3d2-e79478a5ab1c",
   "metadata": {},
   "source": [
    "- Sabit tip "
   ]
  },
  {
   "cell_type": "code",
   "execution_count": 72,
   "id": "b53fe9d0-289b-44ab-b740-32ba226729d9",
   "metadata": {},
   "outputs": [
    {
     "data": {
      "text/plain": [
       "array([3.33, 4.  , 2.  , 1.1 ])"
      ]
     },
     "execution_count": 72,
     "metadata": {},
     "output_type": "execute_result"
    }
   ],
   "source": [
    "import numpy as np\n",
    "ConstType = np.array([3.33,4,2,1.1])      # Array icindeki tip float oldu.\n",
    "ConstType"
   ]
  },
  {
   "cell_type": "markdown",
   "id": "9d7e8c4b-1f11-42d2-9a32-f5412a2e8148",
   "metadata": {},
   "source": [
    "**Sifirdan Array Olusturmak**"
   ]
  },
  {
   "cell_type": "code",
   "execution_count": 81,
   "id": "73255785-d3ea-4746-804f-5b9ab20ea2dd",
   "metadata": {},
   "outputs": [
    {
     "data": {
      "text/plain": [
       "array([0, 0, 0, 0, 0, 0, 0, 0, 0, 0])"
      ]
     },
     "execution_count": 81,
     "metadata": {},
     "output_type": "execute_result"
    }
   ],
   "source": [
    "import numpy as np\n",
    "np.zeros(10,dtype = int)      # np.sifirlardanolusan(elamans,dtype bilgisi)"
   ]
  },
  {
   "cell_type": "code",
   "execution_count": 66,
   "id": "feb43059-2a77-48f8-96bd-8a00773ed99d",
   "metadata": {},
   "outputs": [
    {
     "data": {
      "text/plain": [
       "array([[1, 1, 1],\n",
       "       [1, 1, 1],\n",
       "       [1, 1, 1]])"
      ]
     },
     "execution_count": 66,
     "metadata": {},
     "output_type": "execute_result"
    }
   ],
   "source": [
    "import numpy as np\n",
    "np.ones((3,3),dtype = int)      # np.bir((boyut bilgisi),dtype bilgisi)"
   ]
  },
  {
   "cell_type": "code",
   "execution_count": 68,
   "id": "20b8975f-d5b1-4696-8952-6001d5d95fb8",
   "metadata": {},
   "outputs": [
    {
     "data": {
      "text/plain": [
       "array([[11, 11, 11, 11],\n",
       "       [11, 11, 11, 11]])"
      ]
     },
     "execution_count": 68,
     "metadata": {},
     "output_type": "execute_result"
    }
   ],
   "source": [
    "import numpy as np\n",
    "np.full((2,4),11)      # np.full(boyut bilgisi,hangi sayidan)"
   ]
  },
  {
   "cell_type": "code",
   "execution_count": 102,
   "id": "3b5dcc69-cb78-4898-b700-52a547ed3efb",
   "metadata": {},
   "outputs": [
    {
     "name": "stdout",
     "output_type": "stream",
     "text": [
      "[0 2 4 6 8]\n",
      "[0.         0.11111111 0.22222222 0.33333333 0.44444444 0.55555556\n",
      " 0.66666667 0.77777778 0.88888889 1.        ]\n",
      "[  10.           16.68100537   27.82559402   46.41588834   77.42636827\n",
      "  129.1549665   215.443469    359.38136638  599.48425032 1000.        ]\n",
      "[[ 8.91338629 11.43857923 10.15566059]\n",
      " [ 8.01325195 11.50542901  8.02117089]\n",
      " [12.29425007  9.71329405 11.53130932]]\n",
      "[[3 3 5]\n",
      " [6 6 6]\n",
      " [9 0 5]]\n"
     ]
    }
   ],
   "source": [
    "import numpy as np\n",
    "\n",
    "Aralik = np.arange(0,10,2)      # 0-10 arasi 2'ser\n",
    "print(Aralik)\n",
    "\n",
    "ZeroToOne = np.linspace(0,1,10)\n",
    "print(ZeroToOne)                # 0-1 arasinda rastgele 10 sayi\n",
    "\n",
    "LogArr = np.logspace(1,3,10)    # 10-1000 arasi sayilar\n",
    "print(LogArr)\n",
    "\n",
    "RandomArray = np.random.normal(10,2,(3,3))\n",
    "print(RandomArray)          # np.random.normal(ortalamasi 10,standart sap 2,boyut bilgisi)\n",
    "\n",
    "IntArray = np.random.randint(0,10,(3,3))  # 0-10 arasi 3x3 integer array\n",
    "print(IntArray)"
   ]
  },
  {
   "cell_type": "markdown",
   "id": "60644418-8c60-48c3-b1a8-6d9f02bfb3ea",
   "metadata": {},
   "source": [
    "**Dizi Islemleri**"
   ]
  },
  {
   "cell_type": "markdown",
   "id": "f44f504a-4630-444f-8cd4-d2d6097fbd78",
   "metadata": {},
   "source": [
    "**Indeksleme**"
   ]
  },
  {
   "cell_type": "code",
   "execution_count": 170,
   "id": "97f5572c-7639-4e99-b2a0-bb5d2b64f3d1",
   "metadata": {},
   "outputs": [
    {
     "name": "stdout",
     "output_type": "stream",
     "text": [
      "[3 4 2 7 3]\n",
      "2\n",
      "3\n",
      "6\n"
     ]
    }
   ],
   "source": [
    "import numpy as np\n",
    "\n",
    "IndeksArr = np.random.randint(1,10,5)\n",
    "print(IndeksArr)\n",
    "print(IndeksArr[2])\n",
    "print(IndeksArr[-1])\n",
    "\n",
    "x = np.array([[1,2,3,4],[5,6,7,8,]])\n",
    "print(x[1,1])"
   ]
  },
  {
   "cell_type": "markdown",
   "id": "c803f434-73a5-419f-aee5-e3152968ac69",
   "metadata": {},
   "source": [
    "**Kosullu Eleman Islemleri**"
   ]
  },
  {
   "cell_type": "code",
   "execution_count": 179,
   "id": "6e86a5ed-14ed-4505-b0b7-f1eff62ea139",
   "metadata": {},
   "outputs": [
    {
     "name": "stdout",
     "output_type": "stream",
     "text": [
      "[4 5 6 7 8]\n",
      "[[ 4  5  6  7]\n",
      " [ 8  9 10 11]]\n",
      "[[ 3  6  9 12]\n",
      " [15 18 21 24]]\n"
     ]
    }
   ],
   "source": [
    "import numpy as np\n",
    "\n",
    "v = np.array([[1,2,3,4],[5,6,7,8,]])\n",
    "print(v[v>3])"
   ]
  },
  {
   "cell_type": "markdown",
   "id": "068fd688-9d60-4f94-9908-441a5ebd43ee",
   "metadata": {},
   "source": [
    "**Matematiksel Islemler**"
   ]
  },
  {
   "cell_type": "code",
   "execution_count": 200,
   "id": "b41fed2e-1ffd-4082-966c-2afcd2b7ff88",
   "metadata": {},
   "outputs": [
    {
     "name": "stdout",
     "output_type": "stream",
     "text": [
      "[[ 0  3  4  5]\n",
      " [ 6 -5  8  9]]\n",
      "[[-2  1  2  3]\n",
      " [ 4 -7  6  7]]\n",
      "[[1 0 1 0]\n",
      " [1 0 1 0]]\n",
      "[[1 2 3 4]\n",
      " [5 6 7 8]]\n",
      "[[-0.84147098  0.90929743  0.14112001 -0.7568025 ]\n",
      " [-0.95892427  0.2794155   0.6569866   0.98935825]]\n",
      "[[0.         0.30103    0.47712125 0.60205999]\n",
      " [0.69897    0.77815125 0.84509804 0.90308999]]\n"
     ]
    }
   ],
   "source": [
    "import numpy as np\n",
    "\n",
    "v = np.array([[-1,2,3,4],[5,-6,7,8,]])\n",
    "\n",
    "print( np.add(v,1) )\n",
    "print( np.subtract(v,1) )\n",
    "print( np.mod(v,2) )\n",
    "print( np.absolute(v))\n",
    "\n",
    "print(np.sin(v))\n",
    "\n",
    "w = np.array([[1,2,3,4],[5,6,7,8,]])\n",
    "print(np.log10(w))"
   ]
  },
  {
   "cell_type": "markdown",
   "id": "41dd8d3b-90c0-4eb4-ba48-56b47a0f23f4",
   "metadata": {},
   "source": [
    "**Dizi Manipulasyonu**\n",
    "- ndim: boyut sayisi\n",
    "- shape: boyut bilgisi\n",
    "- size: toplam eleman sayisi\n",
    "- dtype: array veri tipi"
   ]
  },
  {
   "cell_type": "code",
   "execution_count": 90,
   "id": "2232619a-3776-4abd-8a01-41049e7a47e2",
   "metadata": {},
   "outputs": [
    {
     "name": "stdout",
     "output_type": "stream",
     "text": [
      "2\n",
      "(2, 4)\n",
      "8\n",
      "int32\n"
     ]
    }
   ],
   "source": [
    "import numpy as np\n",
    "\n",
    "IntArray = np.random.randint(1,9,(2,4))\n",
    "print(IntArray.ndim)\n",
    "print(IntArray.shape)\n",
    "print(IntArray.size)\n",
    "print(IntArray.dtype)"
   ]
  },
  {
   "cell_type": "markdown",
   "id": "f1764412-0a98-4a42-a64d-2c49036666af",
   "metadata": {},
   "source": [
    "**Reshape**"
   ]
  },
  {
   "cell_type": "code",
   "execution_count": 107,
   "id": "1d013cb5-bc08-4cf2-a1cf-76d8622cb1ce",
   "metadata": {},
   "outputs": [
    {
     "name": "stdout",
     "output_type": "stream",
     "text": [
      "[1 3 5 7 9]\n",
      "[[1]\n",
      " [3]\n",
      " [5]\n",
      " [7]\n",
      " [9]]\n"
     ]
    }
   ],
   "source": [
    "import numpy as np\n",
    "\n",
    "Reshaping = np.arange(1,10,2)\n",
    "print(Reshaping)\n",
    "\n",
    "Reshaping = Reshaping.reshape(5,1)      # yeniden boyutlandirma\n",
    "print(Reshaping)"
   ]
  },
  {
   "cell_type": "markdown",
   "id": "8f417847-a717-486e-bd06-fd97815bfbc7",
   "metadata": {},
   "source": [
    "**Concatenation**"
   ]
  },
  {
   "cell_type": "code",
   "execution_count": 124,
   "id": "5582049e-a006-4d35-b1e6-68520713345f",
   "metadata": {},
   "outputs": [
    {
     "name": "stdout",
     "output_type": "stream",
     "text": [
      "[[1 2 3 4]\n",
      " [5 6 7 8]\n",
      " [1 2 3 4]\n",
      " [5 6 7 8]]\n",
      "[[1 2 3 4]\n",
      " [5 6 7 8]\n",
      " [1 2 3 4]\n",
      " [5 6 7 8]]\n",
      "[[1 2 3 4 1 2 3 4]\n",
      " [5 6 7 8 5 6 7 8]]\n"
     ]
    }
   ],
   "source": [
    "import numpy as np\n",
    "\n",
    "x = np.array([[1,2,3,4],[5,6,7,8,]])\n",
    "y = np.array([[1,2,3,4],[5,6,7,8,]])\n",
    "z = np.concatenate([x,y])\n",
    "print(z)\n",
    "\n",
    "RowArr = np.concatenate([x,y],axis = 0)       # Satir olarak birlestirme\n",
    "print(RowArr)\n",
    "\n",
    "ColArr = np.concatenate([x,y],axis = 1)       # Sutun olarak birlestirme\n",
    "print(ColArr)"
   ]
  },
  {
   "cell_type": "markdown",
   "id": "9f907508-969c-4132-a1ff-1801a33d3413",
   "metadata": {},
   "source": [
    "**Splitting**"
   ]
  },
  {
   "cell_type": "code",
   "execution_count": 148,
   "id": "aefb3339-798b-48a1-90c8-a47df61ff02a",
   "metadata": {},
   "outputs": [
    {
     "name": "stdout",
     "output_type": "stream",
     "text": [
      "[1 2 3]\n",
      "[4 5]\n",
      "[6 7 8]\n",
      "[[1 2 3 4]]\n",
      "[[1 2]\n",
      " [5 6]]\n",
      "[[3 4]\n",
      " [7 8]]\n"
     ]
    }
   ],
   "source": [
    "import numpy as np\n",
    "\n",
    "x = np.array([1,2,3,4,5,6,7,8])\n",
    "Row1,Row2,Row3 = np.split(x,[3,5])           # 3'den ayir , 5' den ayir\n",
    "print(Row1)\n",
    "print(Row2)\n",
    "print(Row3)\n",
    "\n",
    "z = np.array([[1,2,3,4],[5,6,7,8,]])         # satir olarak bol.\n",
    "Top,Bottom = np.vsplit(y,[1])\n",
    "print(Top)\n",
    "\n",
    "z = np.array([[1,2,3,4],[5,6,7,8,]])         # sutun olarak bol\n",
    "Left,Right = np.hsplit(z,[2])\n",
    "print(Left)\n",
    "print(Right)"
   ]
  },
  {
   "cell_type": "markdown",
   "id": "950fca02-be7e-46eb-97f2-07420271c0a8",
   "metadata": {},
   "source": [
    "**Sorting**"
   ]
  },
  {
   "cell_type": "code",
   "execution_count": 152,
   "id": "02e0817a-a906-467a-afb3-ae66db26dcd1",
   "metadata": {},
   "outputs": [
    {
     "name": "stdout",
     "output_type": "stream",
     "text": [
      "[1 2 3 4 6 8]\n"
     ]
    }
   ],
   "source": [
    "import numpy as np\n",
    "\n",
    "UnOrdered = np.array([3,6,1,8,4,2])\n",
    "Ordered = np.sort(UnOrdered)\n",
    "print(Ordered)"
   ]
  },
  {
   "cell_type": "markdown",
   "id": "f5401994-1dcd-4010-853e-ac6ebaf79dc1",
   "metadata": {},
   "source": [
    "**Transpose**"
   ]
  },
  {
   "cell_type": "code",
   "execution_count": 155,
   "id": "0b6ec058-77ee-452c-9fc7-1d47f0f658b1",
   "metadata": {},
   "outputs": [
    {
     "name": "stdout",
     "output_type": "stream",
     "text": [
      "[[1 5]\n",
      " [2 6]\n",
      " [3 7]\n",
      " [4 8]]\n"
     ]
    }
   ],
   "source": [
    "import numpy as np\n",
    "\n",
    "z = np.array([[1,2,3,4],[5,6,7,8,]]) \n",
    "z = z.T\n",
    "print(z)"
   ]
  },
  {
   "cell_type": "markdown",
   "id": "aff23b94-0ae3-4d36-bd18-66c4a01f1cb5",
   "metadata": {},
   "source": [
    "**Istatiksel ve Matematiksel Fonksiyonlar**"
   ]
  },
  {
   "cell_type": "code",
   "execution_count": 203,
   "id": "4dec6d75-8ef2-4c0f-a784-fdd58fe49b42",
   "metadata": {},
   "outputs": [
    {
     "name": "stdout",
     "output_type": "stream",
     "text": [
      "[[ 0  3  4  5]\n",
      " [ 6 -5  8  9]]\n",
      "[[-2  1  2  3]\n",
      " [ 4 -7  6  7]]\n",
      "[[1 0 1 0]\n",
      " [1 0 1 0]]\n",
      "[[1 2 3 4]\n",
      " [5 6 7 8]]\n",
      "[[-0.84147098  0.90929743  0.14112001 -0.7568025 ]\n",
      " [-0.95892427  0.2794155   0.6569866   0.98935825]]\n",
      "[[0.         0.30103    0.47712125 0.60205999]\n",
      " [0.69897    0.77815125 0.84509804 0.90308999]]\n",
      "4.5\n"
     ]
    }
   ],
   "source": [
    "import numpy as np\n",
    "\n",
    "v = np.array([[-1,2,3,4],[5,-6,7,8,]])\n",
    "\n",
    "print( np.add(v,1) )                      # toplama\n",
    "print( np.subtract(v,1) )                     # cikarma\n",
    "print( np.mod(v,2) )                     # mod\n",
    "print( np.absolute(v))                     # mutlak\n",
    "\n",
    "print(np.sin(v))                     # sinus\n",
    "\n",
    "w = np.array([[1,2,3,4],[5,6,7,8,]])                     \n",
    "print(np.log10(w))                     # logaritma\n",
    "\n",
    "\n",
    "print(np.median(w))                     # medyan\n",
    "print(np.mean(w))                     # aritmetik ort.\n",
    "print(np.std(w))                     # standart sapma\n",
    "print(np.nanmedian(w))                     # nan degerleri almadan medyan hesaplama"
   ]
  },
  {
   "cell_type": "markdown",
   "id": "453d45e6-e55f-46d9-8e8a-dfc934be4d7e",
   "metadata": {},
   "source": [
    "**Boolean Diziler ve Filtreleme**"
   ]
  },
  {
   "cell_type": "code",
   "execution_count": 214,
   "id": "7bcbcd85-ca8d-4974-9cbb-5edd76be0102",
   "metadata": {},
   "outputs": [
    {
     "name": "stdout",
     "output_type": "stream",
     "text": [
      "[ True False  True  True]\n",
      "[ True  True False False]\n",
      "[False  True False False]\n"
     ]
    }
   ],
   "source": [
    "import numpy as np\n",
    "\n",
    "Arr = np.array([1, 0, -1, 3])\n",
    "BoolArr = Arr.astype(bool)\n",
    "\n",
    "print(BoolArr)\n",
    "\n",
    "Arr2 = np.array([1, 2, 0, -1])\n",
    "\n",
    "print(Arr2 > 0)\n",
    "\n",
    "print(Arr2 >= 2)"
   ]
  },
  {
   "cell_type": "code",
   "execution_count": 216,
   "id": "9eb4c5db-bb17-4336-b4ce-cb9bc8357963",
   "metadata": {},
   "outputs": [
    {
     "name": "stdout",
     "output_type": "stream",
     "text": [
      "[[ 0.80487926 -1.3347932  -0.75873165 -0.98320211]\n",
      " [ 0.04994912  1.05661514  0.79458138 -0.12355563]\n",
      " [ 0.13078191  1.2191129   0.0935127   1.72415448]\n",
      " [ 0.37193774  0.16151057 -2.16182468 -0.61757426]\n",
      " [ 0.32119824  1.8638254  -0.58166956  0.5932326 ]]\n",
      "[[ 0.04994912  1.05661514  0.79458138 -0.12355563]\n",
      " [ 0.13078191  1.2191129   0.0935127   1.72415448]]\n"
     ]
    }
   ],
   "source": [
    "Data = np.random.randn(5, 4)\n",
    "print(Data)\n",
    "\n",
    "BoolFilter = (Data[:, 2] > 0)\n",
    "FilteredData = Data[BoolFilter]\n",
    "print(FilteredData)"
   ]
  },
  {
   "cell_type": "markdown",
   "id": "dd49fbb7-1f69-4846-9dda-7a5acfb4bac3",
   "metadata": {},
   "source": [
    "**Matrisler ve Lineer Cebir**"
   ]
  },
  {
   "cell_type": "code",
   "execution_count": 221,
   "id": "32d852cd-ccd1-48b5-8806-6c4d7d6f80fc",
   "metadata": {},
   "outputs": [
    {
     "name": "stdout",
     "output_type": "stream",
     "text": [
      "a: [[1. 2.]\n",
      " [3. 4.]]\n",
      "transpoze a: [[1. 3.]\n",
      " [2. 4.]]\n",
      "tersi a: [[-2.   1. ]\n",
      " [ 1.5 -0.5]]\n",
      "[[-1.  0.]\n",
      " [ 0. -1.]]\n"
     ]
    }
   ],
   "source": [
    "import numpy as np\n",
    "\n",
    "a = np.array([[1.0, 2.0], [3.0, 4.0]])\n",
    "print('a:', a)\n",
    "print('transpoze a:', a.transpose())\n",
    "print('tersi a:', np.linalg.inv(a))\n",
    "\n",
    "c = np.array([[0.0, -1.0], [1.0, 0.0]])\n",
    "print(c @ c) #matrix çarpımı\n"
   ]
  }
 ],
 "metadata": {
  "kernelspec": {
   "display_name": "Python 3 (ipykernel)",
   "language": "python",
   "name": "python3"
  },
  "language_info": {
   "codemirror_mode": {
    "name": "ipython",
    "version": 3
   },
   "file_extension": ".py",
   "mimetype": "text/x-python",
   "name": "python",
   "nbconvert_exporter": "python",
   "pygments_lexer": "ipython3",
   "version": "3.12.4"
  }
 },
 "nbformat": 4,
 "nbformat_minor": 5
}
